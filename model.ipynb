{
 "cells": [
  {
   "cell_type": "code",
   "execution_count": 1,
   "id": "aaf7db66",
   "metadata": {},
   "outputs": [],
   "source": [
    "import pandas as pd\n",
    "from sklearn.model_selection import train_test_split\n",
    "from sklearn.preprocessing import OneHotEncoder, StandardScaler\n",
    "from sklearn.compose import ColumnTransformer\n",
    "from sklearn.pipeline import Pipeline\n",
    "from sklearn.impute import SimpleImputer\n",
    "from sklearn.metrics import r2_score,mean_squared_error,root_mean_squared_error\n",
    "from math import sqrt\n",
    "from sklearn.ensemble import RandomForestRegressor, GradientBoostingRegressor\n",
    "from xgboost import XGBRegressor\n",
    "from sklearn.model_selection import RandomizedSearchCV\n",
    "from sklearn.linear_model import LinearRegression ,Lasso,Ridge\n",
    "\n",
    "# Load dataset\n",
    "df = pd.read_csv(\"flights_data.csv\")\n",
    "\n",
    "# Drop unnecessary columns\n",
    "df.drop(['flight'], axis=1, inplace=True)\n",
    "\n",
    "# Features & target\n",
    "x =  df.drop('price', axis=1)\n",
    "y = df['price']\n",
    "\n",
    "# Categorical & numerical features\n",
    "categorical_features = ['airline', 'source_city', 'destination_city', 'class', 'stops', 'departure_time', 'arrival_time']\n",
    "numerical_features = ['duration', 'days_left']\n"
   ]
  },
  {
   "cell_type": "code",
   "execution_count": 2,
   "id": "bf2f2641",
   "metadata": {},
   "outputs": [],
   "source": [
    "# Numerical features\n",
    "num_transformer = Pipeline([\n",
    "    ('imputer', SimpleImputer(strategy='median')),\n",
    "    ('scaler', StandardScaler())\n",
    "])\n",
    "\n",
    "# Categorical features\n",
    "cat_transformer = Pipeline([\n",
    "    ('imputer', SimpleImputer(strategy='most_frequent')),\n",
    "    ('onehot', OneHotEncoder(handle_unknown='ignore'))\n",
    "])\n",
    "\n",
    "# Combine transformations\n",
    "preprocessor = ColumnTransformer([\n",
    "    ('num', num_transformer, numerical_features),\n",
    "    ('cat', cat_transformer, categorical_features)\n",
    "])\n"
   ]
  },
  {
   "cell_type": "code",
   "execution_count": 3,
   "id": "4dd412bc",
   "metadata": {},
   "outputs": [],
   "source": [
    "# Sample 50k rows for tuning\n",
    "df_sample = df.sample(n=10000, random_state=42)\n",
    "X_sample = df_sample.drop('price', axis=1)\n",
    "y_sample = df_sample['price']\n"
   ]
  },
  {
   "cell_type": "code",
   "execution_count": 4,
   "id": "4c9e956e",
   "metadata": {},
   "outputs": [],
   "source": [
    "\n",
    "models = {\n",
    "    'LinearRegression' : LinearRegression(),\n",
    "    'Lasso': Lasso(random_state=42,alpha=0.05),\n",
    "    'ridge_regression': Ridge(random_state=42,alpha=0.05),\n",
    "    'RandomForest': RandomForestRegressor(random_state=42),\n",
    "    'GradientBoosting': GradientBoostingRegressor(random_state=42),\n",
    "    'XGBoost': XGBRegressor(objective='reg:squarederror', random_state=42)\n",
    "}\n",
    "\n",
    "param_grid = {\n",
    "\n",
    "    'LinearRegression': {},\n",
    "    'Lasso':\n",
    "      {},\n",
    "    'ridge_regression' :\n",
    "      {},\n",
    "    'RandomForest': {\n",
    "        'model__n_estimators': [100, 150, 200],\n",
    "        'model__max_depth': [i for i in range(50)],\n",
    "        'model__min_samples_split': [2, 5, 10],\n",
    "    'model__min_samples_leaf': [1, 2, 4],\n",
    "    'model__max_features': ['sqrt', 'log2']\n",
    "    },\n",
    "    'GradientBoosting': {\n",
    "        'model__n_estimators': [100, 150],\n",
    "        'model__learning_rate': [0.05, 0.1],\n",
    "        'model__max_depth': [3, 5]\n",
    "    },\n",
    "    'XGBoost': {\n",
    "        'model__n_estimators': [100, 150],\n",
    "        'model__learning_rate': [0.05, 0.1],\n",
    "        'model__max_depth': [i for i in range(50)]\n",
    "    }\n",
    "}\n"
   ]
  },
  {
   "cell_type": "code",
   "execution_count": 5,
   "id": "35efa613",
   "metadata": {},
   "outputs": [
    {
     "name": "stdout",
     "output_type": "stream",
     "text": [
      "Training LinearRegression on sample data...\n"
     ]
    },
    {
     "name": "stderr",
     "output_type": "stream",
     "text": [
      "c:\\python\\Lib\\site-packages\\sklearn\\model_selection\\_search.py:318: UserWarning: The total space of parameters 1 is smaller than n_iter=10. Running 1 iterations. For exhaustive searches, use GridSearchCV.\n",
      "  warnings.warn(\n"
     ]
    },
    {
     "name": "stdout",
     "output_type": "stream",
     "text": [
      "LinearRegression best R² score (CV): 0.9102\n",
      "LinearRegression best params: {}\n",
      "\n",
      "mean square error: 46749591.8249\n",
      "LinearRegression RMSE on sample data: 6837.3673\n",
      "\n",
      "Training Lasso on sample data...\n"
     ]
    },
    {
     "name": "stderr",
     "output_type": "stream",
     "text": [
      "c:\\python\\Lib\\site-packages\\sklearn\\model_selection\\_search.py:318: UserWarning: The total space of parameters 1 is smaller than n_iter=10. Running 1 iterations. For exhaustive searches, use GridSearchCV.\n",
      "  warnings.warn(\n"
     ]
    },
    {
     "name": "stdout",
     "output_type": "stream",
     "text": [
      "Lasso best R² score (CV): 0.9102\n",
      "Lasso best params: {}\n",
      "\n",
      "mean square error: 46749593.0024\n",
      "Lasso RMSE on sample data: 6837.3674\n",
      "\n",
      "Training ridge_regression on sample data...\n"
     ]
    },
    {
     "name": "stderr",
     "output_type": "stream",
     "text": [
      "c:\\python\\Lib\\site-packages\\sklearn\\model_selection\\_search.py:318: UserWarning: The total space of parameters 1 is smaller than n_iter=10. Running 1 iterations. For exhaustive searches, use GridSearchCV.\n",
      "  warnings.warn(\n"
     ]
    },
    {
     "name": "stdout",
     "output_type": "stream",
     "text": [
      "ridge_regression best R² score (CV): 0.9102\n",
      "ridge_regression best params: {}\n",
      "\n",
      "mean square error: 46749599.4754\n",
      "ridge_regression RMSE on sample data: 6837.3679\n",
      "\n",
      "Training RandomForest on sample data...\n",
      "RandomForest best R² score (CV): 0.9626\n",
      "RandomForest best params: {'model__n_estimators': 100, 'model__min_samples_split': 2, 'model__min_samples_leaf': 2, 'model__max_features': 'sqrt', 'model__max_depth': 40}\n",
      "\n",
      "mean square error: 9442401.5468\n",
      "RandomForest RMSE on sample data: 3072.8491\n",
      "\n",
      "Training GradientBoosting on sample data...\n"
     ]
    },
    {
     "name": "stderr",
     "output_type": "stream",
     "text": [
      "c:\\python\\Lib\\site-packages\\sklearn\\model_selection\\_search.py:318: UserWarning: The total space of parameters 8 is smaller than n_iter=10. Running 8 iterations. For exhaustive searches, use GridSearchCV.\n",
      "  warnings.warn(\n"
     ]
    },
    {
     "name": "stdout",
     "output_type": "stream",
     "text": [
      "GradientBoosting best R² score (CV): 0.9599\n",
      "GradientBoosting best params: {'model__n_estimators': 150, 'model__max_depth': 5, 'model__learning_rate': 0.1}\n",
      "\n",
      "mean square error: 14618335.0337\n",
      "GradientBoosting RMSE on sample data: 3823.3931\n",
      "\n",
      "Training XGBoost on sample data...\n",
      "XGBoost best R² score (CV): 0.9638\n",
      "XGBoost best params: {'model__n_estimators': 150, 'model__max_depth': 7, 'model__learning_rate': 0.1}\n",
      "\n",
      "mean square error: 6638689.0799\n",
      "XGBoost RMSE on sample data: 2576.5654\n",
      "\n"
     ]
    }
   ],
   "source": [
    "best_models = {}\n",
    "\n",
    "for name, model in models.items():\n",
    "    print(f\"Training {name} on sample data...\")\n",
    "    \n",
    "    pipeline = Pipeline([\n",
    "        ('preprocessor', preprocessor),\n",
    "        ('model', model)\n",
    "    ])\n",
    "    \n",
    "    search = RandomizedSearchCV(\n",
    "        pipeline,\n",
    "        param_distributions=param_grid[name],\n",
    "        n_iter=10,        # 5 random combinations\n",
    "        cv=5,              # 3-fold CV\n",
    "        scoring='r2',       # Use R² as metric\n",
    "        n_jobs=-1,\n",
    "        random_state=42\n",
    "    )\n",
    "    \n",
    "    search.fit(X_sample, y_sample)\n",
    "    \n",
    "    best_models[name] = search.best_estimator_\n",
    "    print(f\"{name} best R² score (CV): {search.best_score_:.4f}\")\n",
    "    print(f\"{name} best params: {search.best_params_}\\n\")\n",
    "    mse = mean_squared_error(y_sample, search.predict(X_sample))\n",
    "    rmse = mse ** 0.5\n",
    "    print(f\"mean square error: {mse:.4f}\")\n",
    "    print(f\"{name} RMSE on sample data: {rmse:.4f}\\n\")\n",
    "\n"
   ]
  },
  {
   "cell_type": "code",
   "execution_count": 124,
   "id": "d1431e5b",
   "metadata": {},
   "outputs": [
    {
     "data": {
      "text/plain": [
       "{'LinearRegression': Pipeline(steps=[('preprocessor',\n",
       "                  ColumnTransformer(transformers=[('num',\n",
       "                                                   Pipeline(steps=[('imputer',\n",
       "                                                                    SimpleImputer(strategy='median')),\n",
       "                                                                   ('scaler',\n",
       "                                                                    StandardScaler())]),\n",
       "                                                   ['duration', 'days_left']),\n",
       "                                                  ('cat',\n",
       "                                                   Pipeline(steps=[('imputer',\n",
       "                                                                    SimpleImputer(strategy='most_frequent')),\n",
       "                                                                   ('onehot',\n",
       "                                                                    OneHotEncoder(handle_unknown='ignore'))]),\n",
       "                                                   ['airline', 'source_city',\n",
       "                                                    'destination_city', 'class',\n",
       "                                                    'stops', 'departure_time',\n",
       "                                                    'arrival_time'])])),\n",
       "                 ('model', LinearRegression())]),\n",
       " 'Lasso': Pipeline(steps=[('preprocessor',\n",
       "                  ColumnTransformer(transformers=[('num',\n",
       "                                                   Pipeline(steps=[('imputer',\n",
       "                                                                    SimpleImputer(strategy='median')),\n",
       "                                                                   ('scaler',\n",
       "                                                                    StandardScaler())]),\n",
       "                                                   ['duration', 'days_left']),\n",
       "                                                  ('cat',\n",
       "                                                   Pipeline(steps=[('imputer',\n",
       "                                                                    SimpleImputer(strategy='most_frequent')),\n",
       "                                                                   ('onehot',\n",
       "                                                                    OneHotEncoder(handle_unknown='ignore'))]),\n",
       "                                                   ['airline', 'source_city',\n",
       "                                                    'destination_city', 'class',\n",
       "                                                    'stops', 'departure_time',\n",
       "                                                    'arrival_time'])])),\n",
       "                 ('model', Lasso(alpha=0.05, random_state=42))]),\n",
       " 'ridge_regression': Pipeline(steps=[('preprocessor',\n",
       "                  ColumnTransformer(transformers=[('num',\n",
       "                                                   Pipeline(steps=[('imputer',\n",
       "                                                                    SimpleImputer(strategy='median')),\n",
       "                                                                   ('scaler',\n",
       "                                                                    StandardScaler())]),\n",
       "                                                   ['duration', 'days_left']),\n",
       "                                                  ('cat',\n",
       "                                                   Pipeline(steps=[('imputer',\n",
       "                                                                    SimpleImputer(strategy='most_frequent')),\n",
       "                                                                   ('onehot',\n",
       "                                                                    OneHotEncoder(handle_unknown='ignore'))]),\n",
       "                                                   ['airline', 'source_city',\n",
       "                                                    'destination_city', 'class',\n",
       "                                                    'stops', 'departure_time',\n",
       "                                                    'arrival_time'])])),\n",
       "                 ('model', Ridge(alpha=0.05, random_state=42))]),\n",
       " 'RandomForest': Pipeline(steps=[('preprocessor',\n",
       "                  ColumnTransformer(transformers=[('num',\n",
       "                                                   Pipeline(steps=[('imputer',\n",
       "                                                                    SimpleImputer(strategy='median')),\n",
       "                                                                   ('scaler',\n",
       "                                                                    StandardScaler())]),\n",
       "                                                   ['duration', 'days_left']),\n",
       "                                                  ('cat',\n",
       "                                                   Pipeline(steps=[('imputer',\n",
       "                                                                    SimpleImputer(strategy='most_frequent')),\n",
       "                                                                   ('onehot',\n",
       "                                                                    OneHotEncoder(handle_unknown='ignore'))]),\n",
       "                                                   ['airline', 'source_city',\n",
       "                                                    'destination_city', 'class',\n",
       "                                                    'stops', 'departure_time',\n",
       "                                                    'arrival_time'])])),\n",
       "                 ('model',\n",
       "                  RandomForestRegressor(max_depth=40, max_features='sqrt',\n",
       "                                        min_samples_leaf=2, random_state=42))]),\n",
       " 'GradientBoosting': Pipeline(steps=[('preprocessor',\n",
       "                  ColumnTransformer(transformers=[('num',\n",
       "                                                   Pipeline(steps=[('imputer',\n",
       "                                                                    SimpleImputer(strategy='median')),\n",
       "                                                                   ('scaler',\n",
       "                                                                    StandardScaler())]),\n",
       "                                                   ['duration', 'days_left']),\n",
       "                                                  ('cat',\n",
       "                                                   Pipeline(steps=[('imputer',\n",
       "                                                                    SimpleImputer(strategy='most_frequent')),\n",
       "                                                                   ('onehot',\n",
       "                                                                    OneHotEncoder(handle_unknown='ignore'))]),\n",
       "                                                   ['airline', 'source_city',\n",
       "                                                    'destination_city', 'class',\n",
       "                                                    'stops', 'departure_time',\n",
       "                                                    'arrival_time'])])),\n",
       "                 ('model',\n",
       "                  GradientBoostingRegressor(max_depth=5, n_estimators=150,\n",
       "                                            random_state=42))]),\n",
       " 'XGBoost': Pipeline(steps=[('preprocessor',\n",
       "                  ColumnTransformer(transformers=[('num',\n",
       "                                                   Pipeline(steps=[('imputer',\n",
       "                                                                    SimpleImputer(strategy='median')),\n",
       "                                                                   ('scaler',\n",
       "                                                                    StandardScaler())]),\n",
       "                                                   ['duration', 'days_left']),\n",
       "                                                  ('cat',\n",
       "                                                   Pipeline(steps=[('imputer',\n",
       "                                                                    SimpleImputer(strategy='most_frequent')),\n",
       "                                                                   ('onehot',\n",
       "                                                                    OneHotEncoder(handle_unknown='ignore'))]),\n",
       "                                                   ['airline', 'source_city',\n",
       "                                                    'destinati...\n",
       "                               feature_types=None, feature_weights=None,\n",
       "                               gamma=None, grow_policy=None,\n",
       "                               importance_type=None,\n",
       "                               interaction_constraints=None, learning_rate=0.1,\n",
       "                               max_bin=None, max_cat_threshold=None,\n",
       "                               max_cat_to_onehot=None, max_delta_step=None,\n",
       "                               max_depth=7, max_leaves=None,\n",
       "                               min_child_weight=None, missing=nan,\n",
       "                               monotone_constraints=None, multi_strategy=None,\n",
       "                               n_estimators=150, n_jobs=None,\n",
       "                               num_parallel_tree=None, ...))])}"
      ]
     },
     "execution_count": 124,
     "metadata": {},
     "output_type": "execute_result"
    }
   ],
   "source": [
    "best_models"
   ]
  },
  {
   "cell_type": "code",
   "execution_count": null,
   "id": "48df19dd",
   "metadata": {},
   "outputs": [
    {
     "name": "stdout",
     "output_type": "stream",
     "text": [
      "R² score on test set: 0.9764\n",
      "mse  score on test set: 1954.6390\n",
      "rmse  score on test set: 44.2113\n"
     ]
    }
   ],
   "source": [
    "\n",
    "# Split full data\n",
    "X_train, X_test, y_train, y_test = train_test_split(x,y, test_size=0.2, random_state=42)\n",
    "\n",
    "# Choose best model from tuning, e.g., XGBoost\n",
    "final_model = best_models['XGBoost']\n",
    "\n",
    "# Train on full training set\n",
    "final_model.fit(X_train, y_train)\n",
    "\n",
    "# Predict on test set\n",
    "y_pred = final_model.predict(X_test)\n",
    "\n",
    "r2 = r2_score(y_test, y_pred)\n",
    "mse = mean_absolute_error(y_test,y_pred)\n",
    "rmse =sqrt(mean_absolute_error(y_test,y_pred))\n",
    "\n",
    "\n",
    "print(f\"R² score on test set: {r2:.4f}\")\n",
    "print(f\"mse  score on test set: {mse:.4f}\")\n",
    "print(f\"rmse  score on test set: {rmse:.4f}\")\n"
   ]
  },
  {
   "cell_type": "code",
   "execution_count": 126,
   "id": "e2fa233a",
   "metadata": {},
   "outputs": [
    {
     "data": {
      "text/plain": [
       "['flight_price_model.pkl']"
      ]
     },
     "execution_count": 126,
     "metadata": {},
     "output_type": "execute_result"
    }
   ],
   "source": [
    "import joblib\n",
    "joblib.dump(final_model, 'flight_price_model.pkl')\n"
   ]
  }
 ],
 "metadata": {
  "kernelspec": {
   "display_name": "Python 3",
   "language": "python",
   "name": "python3"
  },
  "language_info": {
   "codemirror_mode": {
    "name": "ipython",
    "version": 3
   },
   "file_extension": ".py",
   "mimetype": "text/x-python",
   "name": "python",
   "nbconvert_exporter": "python",
   "pygments_lexer": "ipython3",
   "version": "3.12.2"
  }
 },
 "nbformat": 4,
 "nbformat_minor": 5
}
